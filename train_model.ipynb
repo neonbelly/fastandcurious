{
 "cells": [
  {
   "cell_type": "code",
   "execution_count": null,
   "metadata": {},
   "outputs": [],
   "source": [
    "import keras\n",
    "from keras import layers\n",
    "from keras import models\n",
    "from keras.applications import VGG16, ResNet50\n",
    "from keras.engine.training import Model\n",
    "import os\n",
    "import pandas as pd\n",
    "from keras import optimizers\n",
    "from keras.preprocessing.image import ImageDataGenerator\n",
    "import glob\n",
    "import re"
   ]
  },
  {
   "cell_type": "markdown",
   "metadata": {},
   "source": [
    "# Retrieving Image Labels\n",
    "The scarepd image file names are based on id from pickled dataframe.\n",
    "Clean car manufacturer and model names to generate correct classes for neural net."
   ]
  },
  {
   "cell_type": "code",
   "execution_count": null,
   "metadata": {},
   "outputs": [],
   "source": [
    "os.chdir('craigs/')"
   ]
  },
  {
   "cell_type": "code",
   "execution_count": null,
   "metadata": {},
   "outputs": [],
   "source": [
    "ids = glob.iglob('craigs_resized/*.jpg')\n",
    "clean_ids = [int(re.search('(\\d+)',i).group()) for i in list(ids)]"
   ]
  },
  {
   "cell_type": "code",
   "execution_count": null,
   "metadata": {},
   "outputs": [],
   "source": [
    "df = pd.read_pickle('vehicles.pkl')\n",
    "df = df[df['id'].isin(clean_ids)]\n",
    "df.shape"
   ]
  },
  {
   "cell_type": "markdown",
   "metadata": {},
   "source": [
    "## Clean Class Names"
   ]
  },
  {
   "cell_type": "code",
   "execution_count": null,
   "metadata": {},
   "outputs": [],
   "source": [
    "df['year'] = df['year'].fillna(-1)\n",
    "df['year'] = df['year'].astype(int)\n",
    "df['year'] = df['year'].astype(str)\n",
    "df['year'] = df['year'].replace('-1', 'unknown_year')"
   ]
  },
  {
   "cell_type": "code",
   "execution_count": null,
   "metadata": {},
   "outputs": [],
   "source": [
    "df['year'] = df['year'].astype(str)"
   ]
  },
  {
   "cell_type": "code",
   "execution_count": null,
   "metadata": {},
   "outputs": [],
   "source": [
    "df['model'] = df['model'].str.replace('benz','')"
   ]
  },
  {
   "cell_type": "code",
   "execution_count": null,
   "metadata": {},
   "outputs": [],
   "source": [
    "df = df[df['model'].notna()]\n",
    "df = df[df['manufacturer'].notna()]\n",
    "df['manufacturer_model'] = df['manufacturer'] + ' ' + df['model']\n",
    "df['manufacturer_model_year'] = df['manufacturer_model'] + ' ' + df['year']\n",
    "df['condition'] = df['condition'].fillna('unknown_condition')"
   ]
  },
  {
   "cell_type": "code",
   "execution_count": null,
   "metadata": {},
   "outputs": [],
   "source": [
    "mask = df['manufacturer_model'].str.contains(' lx')\n",
    "df.loc[mask,['manufacturer_model']] = df['manufacturer_model'].str.split(' lx').str[0]"
   ]
  },
  {
   "cell_type": "code",
   "execution_count": null,
   "metadata": {},
   "outputs": [],
   "source": [
    "mask = df['manufacturer_model'].str.contains(' xle')\n",
    "df.loc[mask,['manufacturer_model']] = df['manufacturer_model'].str.split(' xle').str[0]"
   ]
  },
  {
   "cell_type": "code",
   "execution_count": null,
   "metadata": {},
   "outputs": [],
   "source": [
    "mask = (df['model'].str.contains(' s') & df['manufacturer_model'].str.contains('nissan'))\n",
    "df.loc[mask,['manufacturer_model']] = df['manufacturer_model'].apply(lambda x: ' '.join(x.split(\" \")[0:2]))"
   ]
  },
  {
   "cell_type": "code",
   "execution_count": null,
   "metadata": {},
   "outputs": [],
   "source": [
    "mask = (df['model'].str.contains(' le') & df['manufacturer_model'].str.contains('toyota'))\n",
    "df.loc[mask,['manufacturer_model']] = df['manufacturer_model'].apply(lambda x: ' '.join(x.split(\" \")[0:2]))"
   ]
  },
  {
   "cell_type": "code",
   "execution_count": null,
   "metadata": {},
   "outputs": [],
   "source": [
    "mask = (df['model'].str.contains(' se') & df['manufacturer_model'].str.contains('toyota'))\n",
    "df.loc[mask,['manufacturer_model']] = df['manufacturer_model'].apply(lambda x: ' '.join(x.split(\" \")[0:2]))"
   ]
  },
  {
   "cell_type": "code",
   "execution_count": null,
   "metadata": {},
   "outputs": [],
   "source": [
    "mask = (df['model'].str.contains(' ex') & df['manufacturer_model'].str.contains('honda'))\n",
    "df.loc[mask,['manufacturer_model']] = df['manufacturer_model'].apply(lambda x: ' '.join(x.split(\" \")[0:2]))"
   ]
  },
  {
   "cell_type": "code",
   "execution_count": null,
   "metadata": {},
   "outputs": [],
   "source": [
    "df['manufacturer_model'] = df['manufacturer_model'].str.replace('crv','cr-v')"
   ]
  },
  {
   "cell_type": "code",
   "execution_count": null,
   "metadata": {},
   "outputs": [],
   "source": [
    "mask = df['manufacturer_model'].str.contains('silverado 1500')\n",
    "df.loc[mask,['manufacturer_model']] = 'chevrolet silverado 1500'\n",
    "mask =df['manufacturer_model']=='chevrolet silverado'\n",
    "df.loc[mask,['manufacturer_model']] = 'chevrolet silverado 1500'"
   ]
  },
  {
   "cell_type": "code",
   "execution_count": null,
   "metadata": {},
   "outputs": [],
   "source": [
    "mask = df['manufacturer_model'].str.contains('silverado 2500')\n",
    "df.loc[mask,['manufacturer_model']] = 'chevrolet silverado 2500'"
   ]
  },
  {
   "cell_type": "code",
   "execution_count": null,
   "metadata": {},
   "outputs": [],
   "source": [
    "mask = df['manufacturer_model'].str.contains('ford f250')\n",
    "df.loc[mask,['manufacturer_model']] = 'ford f-250'\n",
    "mask = df['manufacturer_model'].str.contains('f-250')\n",
    "df.loc[mask,['manufacturer_model']] = 'ford f-250'"
   ]
  },
  {
   "cell_type": "code",
   "execution_count": null,
   "metadata": {},
   "outputs": [],
   "source": [
    "mask = df['manufacturer_model'].str.contains('ford f150')\n",
    "df.loc[mask,['manufacturer_model']] = 'ford f-150'\n",
    "mask = df['manufacturer_model'].str.contains('f-150')\n",
    "df.loc[mask,['manufacturer_model']] = 'ford f-150'"
   ]
  },
  {
   "cell_type": "code",
   "execution_count": null,
   "metadata": {},
   "outputs": [],
   "source": [
    "mask = df['manufacturer_model'].str.contains('ford f350')\n",
    "df.loc[mask,['manufacturer_model']] = 'ford f-350'\n",
    "mask = df['manufacturer_model'].str.contains('f-350')\n",
    "df.loc[mask,['manufacturer_model']] = 'ford f-350'"
   ]
  },
  {
   "cell_type": "code",
   "execution_count": null,
   "metadata": {},
   "outputs": [],
   "source": [
    "mask = df['manufacturer_model'].str.contains('ram 1500')\n",
    "df.loc[mask,['manufacturer_model']] = 'ram 1500'"
   ]
  },
  {
   "cell_type": "code",
   "execution_count": null,
   "metadata": {},
   "outputs": [],
   "source": [
    "df['manufacturer_model'] = df['manufacturer_model'].str.replace('4x4|4wd|super duty|sedan|truck|van|xd|ex-l|gls| sel| sle|xlt|lt|awd|fwd', '')"
   ]
  },
  {
   "cell_type": "code",
   "execution_count": null,
   "metadata": {},
   "outputs": [],
   "source": [
    "df['manufacturer_model'].value_counts()"
   ]
  },
  {
   "cell_type": "code",
   "execution_count": null,
   "metadata": {},
   "outputs": [],
   "source": [
    "df.shape"
   ]
  },
  {
   "cell_type": "code",
   "execution_count": null,
   "metadata": {},
   "outputs": [],
   "source": [
    "# removing dominant truck classes by year to balance classes\n",
    "df = df[~((df['year'].astype(int)<=2013) & (df['manufacturer_model']=='ford f-150'))]\n",
    "df = df[~((df['year'].astype(int)>=2018) & (df['manufacturer_model']=='ford f-150'))]"
   ]
  },
  {
   "cell_type": "code",
   "execution_count": null,
   "metadata": {},
   "outputs": [],
   "source": [
    "df = df[~((df['year'].astype(int)<=2013) & (df['manufacturer_model']=='ford f-250'))]\n",
    "df = df[~((df['year'].astype(int)>=2018) & (df['manufacturer_model']=='ford f-250'))]"
   ]
  },
  {
   "cell_type": "code",
   "execution_count": null,
   "metadata": {},
   "outputs": [],
   "source": [
    "df = df[~((df['year'].astype(int)<=2013) & (df['manufacturer_model']=='chevrolet silverado 1500'))]\n",
    "df = df[~((df['year'].astype(int)>=2017) & (df['manufacturer_model']=='chevrolet silverado 1500'))]"
   ]
  },
  {
   "cell_type": "code",
   "execution_count": null,
   "metadata": {},
   "outputs": [],
   "source": [
    "df = df[~((df['year'].astype(int)<=2012) & (df['manufacturer_model']=='ram 1500'))]\n",
    "df = df[~((df['year'].astype(int)>=2017) & (df['manufacturer_model']=='ram 1500'))]"
   ]
  },
  {
   "cell_type": "code",
   "execution_count": null,
   "metadata": {},
   "outputs": [],
   "source": [
    "df = df.sample(frac = 1, random_state=42)"
   ]
  },
  {
   "cell_type": "code",
   "execution_count": null,
   "metadata": {},
   "outputs": [],
   "source": [
    "df = df[df.groupby('manufacturer_model').manufacturer_model.transform(len) > 60]\n",
    "df['labels'] = df['manufacturer_model']\n",
    "df['manufacturer_model'].value_counts()"
   ]
  },
  {
   "cell_type": "code",
   "execution_count": null,
   "metadata": {},
   "outputs": [],
   "source": [
    "df.shape"
   ]
  },
  {
   "cell_type": "code",
   "execution_count": null,
   "metadata": {},
   "outputs": [],
   "source": [
    "df['filename'] = df['id'].astype(str)+'.jpg'\n",
    "df['class'] = df['labels']"
   ]
  },
  {
   "cell_type": "code",
   "execution_count": null,
   "metadata": {},
   "outputs": [],
   "source": [
    "from sklearn.model_selection import train_test_split\n",
    "train, validation = train_test_split(df, test_size=0.2, random_state=42, stratify=df['manufacturer'], shuffle = True)"
   ]
  },
  {
   "cell_type": "code",
   "execution_count": null,
   "metadata": {},
   "outputs": [],
   "source": [
    "train = train[['filename','class']]\n",
    "validation = validation[['filename','class']]"
   ]
  },
  {
   "cell_type": "code",
   "execution_count": null,
   "metadata": {},
   "outputs": [],
   "source": [
    "image_dir = 'craigs_resized/'"
   ]
  },
  {
   "cell_type": "code",
   "execution_count": null,
   "metadata": {},
   "outputs": [],
   "source": [
    "len(validation['class'].unique())"
   ]
  },
  {
   "cell_type": "markdown",
   "metadata": {},
   "source": [
    "# Model"
   ]
  },
  {
   "cell_type": "code",
   "execution_count": null,
   "metadata": {},
   "outputs": [],
   "source": [
    "# model parameters\n",
    "batch_size = 80\n",
    "momentum = 0.9\n",
    "epochs = 45\n",
    "img_width, img_height = 224, 224\n",
    "n_classes = len(train['class'].unique())\n",
    "optimizer = optimizers.SGD(lr=0.001, decay=1e-6, momentum=0.9, nesterov=True)"
   ]
  },
  {
   "cell_type": "code",
   "execution_count": null,
   "metadata": {},
   "outputs": [],
   "source": [
    "from keras.callbacks.callbacks import EarlyStopping, ReduceLROnPlateau\n",
    "early_stop = EarlyStopping(monitor='val_loss', patience=8, verbose=1, min_delta=1e-4)\n",
    "reduce_lr = ReduceLROnPlateau(monitor='val_loss', factor=0.1, patience=4, verbose=1, min_delta=1e-4)\n",
    "callbacks = [early_stop, reduce_lr]"
   ]
  },
  {
   "cell_type": "code",
   "execution_count": null,
   "metadata": {},
   "outputs": [],
   "source": [
    "# use ResNet50 preprocess function\n",
    "from keras.applications import resnet50\n",
    "preprocess_func = resnet50.preprocess_input"
   ]
  },
  {
   "cell_type": "code",
   "execution_count": null,
   "metadata": {},
   "outputs": [],
   "source": [
    "train_dir = 'car_data/car_data/train'\n",
    "validation_dir = 'car_data/car_data/test'\n",
    "\n",
    "train_image_datagen = ImageDataGenerator(\n",
    "    preprocessing_function=preprocess_func,\n",
    "    rotation_range=40,\n",
    "    width_shift_range=0.2,\n",
    "    height_shift_range=0.2,\n",
    "    shear_range=0.2,\n",
    "    zoom_range=0.2,\n",
    "    horizontal_flip=True,\n",
    "    fill_mode='nearest'\n",
    ")\n",
    "train_generator = train_image_datagen.flow_from_dataframe(\n",
    "    train,\n",
    "    image_dir,\n",
    "    target_size=(img_width, img_height),\n",
    "    batch_size=batch_size,\n",
    "    class_mode='categorical'\n",
    ")\n",
    "train_images_count = len(train_generator.filenames)\n",
    "\n",
    "validation_image_datagen = ImageDataGenerator(preprocessing_function=preprocess_func)\n",
    "validation_generator = validation_image_datagen.flow_from_dataframe(\n",
    "    validation,\n",
    "    image_dir,\n",
    "    target_size=(img_width, img_height),\n",
    "    batch_size=batch_size,\n",
    "    class_mode='categorical'\n",
    ")\n",
    "validation_images_count = len(validation_generator.filenames)"
   ]
  },
  {
   "cell_type": "code",
   "execution_count": null,
   "metadata": {},
   "outputs": [],
   "source": [
    "# labels for app\n",
    "label_map = (train_generator.class_indices)\n",
    "labels = {v: k for k, v in label_map.items()}\n",
    "import pickle\n",
    "\n",
    "with open('label_updated.pkl', 'wb') as f:\n",
    "    pickle.dump(labels, f)"
   ]
  },
  {
   "cell_type": "markdown",
   "metadata": {},
   "source": [
    "## Classes are imbalanced, create weighting based on proportion"
   ]
  },
  {
   "cell_type": "code",
   "execution_count": null,
   "metadata": {},
   "outputs": [],
   "source": [
    "from collections import Counter\n",
    "counter = Counter(train_generator.classes)                          \n",
    "max_val = float(max(counter.values()))       \n",
    "class_weights = {class_id : max_val/num_images for class_id, num_images in counter.items()}                     "
   ]
  },
  {
   "cell_type": "markdown",
   "metadata": {},
   "source": [
    "## Construct Neural Network\n",
    "Add ResNet50 base, then add two layers"
   ]
  },
  {
   "cell_type": "code",
   "execution_count": null,
   "metadata": {},
   "outputs": [],
   "source": [
    "# import ResNet50 AND make it trainable\n",
    "conv_base = ResNet50(weights='imagenet', include_top=False, input_shape=(img_width, img_height, 3))\n",
    "conv_base.trainable = True\n",
    "\n",
    "# add ResNet as conv. base\n",
    "model = models.Sequential()\n",
    "model.add(conv_base)\n",
    "\n",
    "# 1024 node layer\n",
    "model.add(layers.GlobalAveragePooling2D())\n",
    "model.add(layers.Dense(1024, activation='relu'))\n",
    "\n",
    "# classification layer\n",
    "model.add(layers.Dense(n_classes, activation='softmax'))"
   ]
  },
  {
   "cell_type": "code",
   "execution_count": null,
   "metadata": {},
   "outputs": [],
   "source": [
    "model.summary()"
   ]
  },
  {
   "cell_type": "code",
   "execution_count": null,
   "metadata": {},
   "outputs": [],
   "source": [
    "# GPU check\n",
    "import tensorflow as tf\n",
    "print(\"GPU Available: \", tf.test.is_gpu_available())"
   ]
  },
  {
   "cell_type": "code",
   "execution_count": null,
   "metadata": {},
   "outputs": [],
   "source": [
    "train_steps = len(train_generator.filenames) // batch_size\n",
    "validation_steps = len(validation_generator.filenames) // batch_size"
   ]
  },
  {
   "cell_type": "code",
   "execution_count": null,
   "metadata": {},
   "outputs": [],
   "source": [
    "from keras.metrics import top_k_categorical_accuracy\n",
    "categorical_acc = top_k_categorical_accuracy\n",
    "model.compile(loss='categorical_crossentropy',\n",
    "              optimizer=optimizer,\n",
    "              metrics=['accuracy',categorical_acc])"
   ]
  },
  {
   "cell_type": "code",
   "execution_count": null,
   "metadata": {},
   "outputs": [],
   "source": [
    "model_history = model.fit_generator(\n",
    "    train_generator,\n",
    "    steps_per_epoch=train_steps,\n",
    "    epochs=epochs,\n",
    "    validation_data=validation_generator,\n",
    "    validation_steps=validation_steps,\n",
    "    class_weight=class_weights,\n",
    "    callbacks=callbacks)"
   ]
  },
  {
   "cell_type": "code",
   "execution_count": null,
   "metadata": {},
   "outputs": [],
   "source": [
    "model.save(\"car_classification_model.h5\")"
   ]
  }
 ],
 "metadata": {
  "kernelspec": {
   "display_name": "Python 3",
   "language": "python",
   "name": "python3"
  },
  "language_info": {
   "codemirror_mode": {
    "name": "ipython",
    "version": 3
   },
   "file_extension": ".py",
   "mimetype": "text/x-python",
   "name": "python",
   "nbconvert_exporter": "python",
   "pygments_lexer": "ipython3",
   "version": "3.7.5"
  },
  "toc": {
   "base_numbering": 1,
   "nav_menu": {},
   "number_sections": true,
   "sideBar": true,
   "skip_h1_title": false,
   "title_cell": "Table of Contents",
   "title_sidebar": "Contents",
   "toc_cell": false,
   "toc_position": {},
   "toc_section_display": true,
   "toc_window_display": false
  }
 },
 "nbformat": 4,
 "nbformat_minor": 4
}
